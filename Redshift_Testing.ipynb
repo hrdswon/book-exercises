{
  "nbformat": 4,
  "nbformat_minor": 0,
  "metadata": {
    "colab": {
      "name": "Redshift Testing",
      "provenance": [],
      "collapsed_sections": [],
      "include_colab_link": true
    },
    "kernelspec": {
      "name": "python3",
      "display_name": "Python 3"
    }
  },
  "cells": [
    {
      "cell_type": "markdown",
      "metadata": {
        "id": "view-in-github",
        "colab_type": "text"
      },
      "source": [
        "<a href=\"https://colab.research.google.com/github/hrdswon/book-exercises/blob/master/Redshift_Testing.ipynb\" target=\"_parent\"><img src=\"https://colab.research.google.com/assets/colab-badge.svg\" alt=\"Open In Colab\"/></a>"
      ]
    },
    {
      "cell_type": "code",
      "metadata": {
        "id": "ePY_5ad7CYtR",
        "colab_type": "code",
        "colab": {}
      },
      "source": [
        "import psycopg2"
      ],
      "execution_count": 7,
      "outputs": []
    },
    {
      "cell_type": "code",
      "metadata": {
        "id": "vMCQFA-FDDKB",
        "colab_type": "code",
        "colab": {}
      },
      "source": [
        "def get_Redshift_connection():\n",
        "    host = \"grepp-data.cduaw970ssvt.ap-northeast-2.redshift.amazonaws.com\"\n",
        "    redshift_user = \"hrdswon\"\n",
        "    redshift_pass = \"Hrdswon1!\"\n",
        "    port = 5439\n",
        "    dbname = \"dev\"\n",
        "    conn = psycopg2.connect(\"dbname={dbname} user={user} host={host} password={password} port={port}\".format(\n",
        "        dbname=dbname,\n",
        "        user=redshift_user,\n",
        "        password=redshift_pass,\n",
        "        host=host,\n",
        "        port=port\n",
        "    ))\n",
        "    conn.set_session(readonly=True, autocommit=True)\n",
        "    return conn.cursor()"
      ],
      "execution_count": 9,
      "outputs": []
    },
    {
      "cell_type": "code",
      "metadata": {
        "id": "RGYLtLKtHHPC",
        "colab_type": "code",
        "colab": {}
      },
      "source": [
        "cur = get_Redshift_connection()\n",
        "\n",
        "sql = \"SELECT * FROM raw_data.user_session_channel LIMIT 10;\"\n",
        "cur.execute(sql)\n",
        "rows = cur.fetchall()"
      ],
      "execution_count": 10,
      "outputs": []
    },
    {
      "cell_type": "code",
      "metadata": {
        "id": "wqsSWrgJIvOJ",
        "colab_type": "code",
        "colab": {
          "base_uri": "https://localhost:8080/",
          "height": 204
        },
        "outputId": "86269a14-e22e-40ae-a97b-1c2f1fbfce09"
      },
      "source": [
        "for r in rows:\n",
        "  print(r)"
      ],
      "execution_count": 11,
      "outputs": [
        {
          "output_type": "stream",
          "text": [
            "(184, 'c41dd99a69df04044aa4e33ece9c9249', 'Naver')\n",
            "(80, 'fdc0eb412a84fa549afe68373d9087e9', 'Organic')\n",
            "(251, '0a54b19a13b6712dc04d1b49215423d8', 'Facebook')\n",
            "(264, 'a914ecef9c12ffdb9bede64bb703d877', 'Google')\n",
            "(744, '05ae14d7ae387b93370d142d82220f1b', 'Facebook')\n",
            "(229, 'eddeb82df22554fa67c641e3f8a25566', 'Google')\n",
            "(265, '4c4ea5258ef3fb3fb1fc48fee9b4408c', 'Naver')\n",
            "(80, '8ae1da0fe37c98412768453f82490da2', 'Organic')\n",
            "(45, '60131a2a3f223dc8f4753bcc5771660c', 'Youtube')\n",
            "(198, '90f4760fcc9b69c13da7368c5c2917f3', 'Facebook')\n"
          ],
          "name": "stdout"
        }
      ]
    },
    {
      "cell_type": "code",
      "metadata": {
        "id": "pfeYYVoRKwbA",
        "colab_type": "code",
        "colab": {}
      },
      "source": [
        "import pandas.io.sql as sqlio"
      ],
      "execution_count": 15,
      "outputs": []
    },
    {
      "cell_type": "code",
      "metadata": {
        "id": "vSrgRV65K7xb",
        "colab_type": "code",
        "colab": {
          "base_uri": "https://localhost:8080/",
          "height": 174
        },
        "outputId": "865cadce-5114-453d-f42f-d50a795b9a5d"
      },
      "source": [
        "df = sqlio.read_sql_query(sql, conn)"
      ],
      "execution_count": 16,
      "outputs": [
        {
          "output_type": "error",
          "ename": "NameError",
          "evalue": "ignored",
          "traceback": [
            "\u001b[0;31m---------------------------------------------------------------------------\u001b[0m",
            "\u001b[0;31mNameError\u001b[0m                                 Traceback (most recent call last)",
            "\u001b[0;32m<ipython-input-16-e994d4f6d7dc>\u001b[0m in \u001b[0;36m<module>\u001b[0;34m()\u001b[0m\n\u001b[0;32m----> 1\u001b[0;31m \u001b[0mdf\u001b[0m \u001b[0;34m=\u001b[0m \u001b[0msqlio\u001b[0m\u001b[0;34m.\u001b[0m\u001b[0mread_sql_query\u001b[0m\u001b[0;34m(\u001b[0m\u001b[0msql\u001b[0m\u001b[0;34m,\u001b[0m \u001b[0mconn\u001b[0m\u001b[0;34m)\u001b[0m\u001b[0;34m\u001b[0m\u001b[0;34m\u001b[0m\u001b[0m\n\u001b[0m",
            "\u001b[0;31mNameError\u001b[0m: name 'conn' is not defined"
          ]
        }
      ]
    },
    {
      "cell_type": "code",
      "metadata": {
        "id": "F0IUfKh4LCNX",
        "colab_type": "code",
        "colab": {
          "base_uri": "https://localhost:8080/",
          "height": 174
        },
        "outputId": "8112891f-9938-4fb3-a3bc-5873dab12dd7"
      },
      "source": [
        "df.head()"
      ],
      "execution_count": 17,
      "outputs": [
        {
          "output_type": "error",
          "ename": "NameError",
          "evalue": "ignored",
          "traceback": [
            "\u001b[0;31m---------------------------------------------------------------------------\u001b[0m",
            "\u001b[0;31mNameError\u001b[0m                                 Traceback (most recent call last)",
            "\u001b[0;32m<ipython-input-17-c42a15b2c7cf>\u001b[0m in \u001b[0;36m<module>\u001b[0;34m()\u001b[0m\n\u001b[0;32m----> 1\u001b[0;31m \u001b[0mdf\u001b[0m\u001b[0;34m.\u001b[0m\u001b[0mhead\u001b[0m\u001b[0;34m(\u001b[0m\u001b[0;34m)\u001b[0m\u001b[0;34m\u001b[0m\u001b[0;34m\u001b[0m\u001b[0m\n\u001b[0m",
            "\u001b[0;31mNameError\u001b[0m: name 'df' is not defined"
          ]
        }
      ]
    }
  ]
}